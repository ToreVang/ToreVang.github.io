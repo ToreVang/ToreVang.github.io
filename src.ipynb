{
 "cells": [
  {
   "cell_type": "code",
   "execution_count": 1,
   "metadata": {},
   "outputs": [
    {
     "data": {
      "text/html": [
       "<div class=\"bk-root\">\n",
       "        <a href=\"https://bokeh.org\" target=\"_blank\" class=\"bk-logo bk-logo-small bk-logo-notebook\"></a>\n",
       "        <span id=\"1002\">Loading BokehJS ...</span>\n",
       "    </div>\n"
      ]
     },
     "metadata": {},
     "output_type": "display_data"
    },
    {
     "data": {
      "application/javascript": "(function(root) {\n  function now() {\n    return new Date();\n  }\n\n  const force = true;\n\n  if (typeof root._bokeh_onload_callbacks === \"undefined\" || force === true) {\n    root._bokeh_onload_callbacks = [];\n    root._bokeh_is_loading = undefined;\n  }\n\nconst JS_MIME_TYPE = 'application/javascript';\n  const HTML_MIME_TYPE = 'text/html';\n  const EXEC_MIME_TYPE = 'application/vnd.bokehjs_exec.v0+json';\n  const CLASS_NAME = 'output_bokeh rendered_html';\n\n  /**\n   * Render data to the DOM node\n   */\n  function render(props, node) {\n    const script = document.createElement(\"script\");\n    node.appendChild(script);\n  }\n\n  /**\n   * Handle when an output is cleared or removed\n   */\n  function handleClearOutput(event, handle) {\n    const cell = handle.cell;\n\n    const id = cell.output_area._bokeh_element_id;\n    const server_id = cell.output_area._bokeh_server_id;\n    // Clean up Bokeh references\n    if (id != null && id in Bokeh.index) {\n      Bokeh.index[id].model.document.clear();\n      delete Bokeh.index[id];\n    }\n\n    if (server_id !== undefined) {\n      // Clean up Bokeh references\n      const cmd_clean = \"from bokeh.io.state import curstate; print(curstate().uuid_to_server['\" + server_id + \"'].get_sessions()[0].document.roots[0]._id)\";\n      cell.notebook.kernel.execute(cmd_clean, {\n        iopub: {\n          output: function(msg) {\n            const id = msg.content.text.trim();\n            if (id in Bokeh.index) {\n              Bokeh.index[id].model.document.clear();\n              delete Bokeh.index[id];\n            }\n          }\n        }\n      });\n      // Destroy server and session\n      const cmd_destroy = \"import bokeh.io.notebook as ion; ion.destroy_server('\" + server_id + \"')\";\n      cell.notebook.kernel.execute(cmd_destroy);\n    }\n  }\n\n  /**\n   * Handle when a new output is added\n   */\n  function handleAddOutput(event, handle) {\n    const output_area = handle.output_area;\n    const output = handle.output;\n\n    // limit handleAddOutput to display_data with EXEC_MIME_TYPE content only\n    if ((output.output_type != \"display_data\") || (!Object.prototype.hasOwnProperty.call(output.data, EXEC_MIME_TYPE))) {\n      return\n    }\n\n    const toinsert = output_area.element.find(\".\" + CLASS_NAME.split(' ')[0]);\n\n    if (output.metadata[EXEC_MIME_TYPE][\"id\"] !== undefined) {\n      toinsert[toinsert.length - 1].firstChild.textContent = output.data[JS_MIME_TYPE];\n      // store reference to embed id on output_area\n      output_area._bokeh_element_id = output.metadata[EXEC_MIME_TYPE][\"id\"];\n    }\n    if (output.metadata[EXEC_MIME_TYPE][\"server_id\"] !== undefined) {\n      const bk_div = document.createElement(\"div\");\n      bk_div.innerHTML = output.data[HTML_MIME_TYPE];\n      const script_attrs = bk_div.children[0].attributes;\n      for (let i = 0; i < script_attrs.length; i++) {\n        toinsert[toinsert.length - 1].firstChild.setAttribute(script_attrs[i].name, script_attrs[i].value);\n        toinsert[toinsert.length - 1].firstChild.textContent = bk_div.children[0].textContent\n      }\n      // store reference to server id on output_area\n      output_area._bokeh_server_id = output.metadata[EXEC_MIME_TYPE][\"server_id\"];\n    }\n  }\n\n  function register_renderer(events, OutputArea) {\n\n    function append_mime(data, metadata, element) {\n      // create a DOM node to render to\n      const toinsert = this.create_output_subarea(\n        metadata,\n        CLASS_NAME,\n        EXEC_MIME_TYPE\n      );\n      this.keyboard_manager.register_events(toinsert);\n      // Render to node\n      const props = {data: data, metadata: metadata[EXEC_MIME_TYPE]};\n      render(props, toinsert[toinsert.length - 1]);\n      element.append(toinsert);\n      return toinsert\n    }\n\n    /* Handle when an output is cleared or removed */\n    events.on('clear_output.CodeCell', handleClearOutput);\n    events.on('delete.Cell', handleClearOutput);\n\n    /* Handle when a new output is added */\n    events.on('output_added.OutputArea', handleAddOutput);\n\n    /**\n     * Register the mime type and append_mime function with output_area\n     */\n    OutputArea.prototype.register_mime_type(EXEC_MIME_TYPE, append_mime, {\n      /* Is output safe? */\n      safe: true,\n      /* Index of renderer in `output_area.display_order` */\n      index: 0\n    });\n  }\n\n  // register the mime type if in Jupyter Notebook environment and previously unregistered\n  if (root.Jupyter !== undefined) {\n    const events = require('base/js/events');\n    const OutputArea = require('notebook/js/outputarea').OutputArea;\n\n    if (OutputArea.prototype.mime_types().indexOf(EXEC_MIME_TYPE) == -1) {\n      register_renderer(events, OutputArea);\n    }\n  }\n  if (typeof (root._bokeh_timeout) === \"undefined\" || force === true) {\n    root._bokeh_timeout = Date.now() + 5000;\n    root._bokeh_failed_load = false;\n  }\n\n  const NB_LOAD_WARNING = {'data': {'text/html':\n     \"<div style='background-color: #fdd'>\\n\"+\n     \"<p>\\n\"+\n     \"BokehJS does not appear to have successfully loaded. If loading BokehJS from CDN, this \\n\"+\n     \"may be due to a slow or bad network connection. Possible fixes:\\n\"+\n     \"</p>\\n\"+\n     \"<ul>\\n\"+\n     \"<li>re-rerun `output_notebook()` to attempt to load from CDN again, or</li>\\n\"+\n     \"<li>use INLINE resources instead, as so:</li>\\n\"+\n     \"</ul>\\n\"+\n     \"<code>\\n\"+\n     \"from bokeh.resources import INLINE\\n\"+\n     \"output_notebook(resources=INLINE)\\n\"+\n     \"</code>\\n\"+\n     \"</div>\"}};\n\n  function display_loaded() {\n    const el = document.getElementById(\"1002\");\n    if (el != null) {\n      el.textContent = \"BokehJS is loading...\";\n    }\n    if (root.Bokeh !== undefined) {\n      if (el != null) {\n        el.textContent = \"BokehJS \" + root.Bokeh.version + \" successfully loaded.\";\n      }\n    } else if (Date.now() < root._bokeh_timeout) {\n      setTimeout(display_loaded, 100)\n    }\n  }\n\n  function run_callbacks() {\n    try {\n      root._bokeh_onload_callbacks.forEach(function(callback) {\n        if (callback != null)\n          callback();\n      });\n    } finally {\n      delete root._bokeh_onload_callbacks\n    }\n    console.debug(\"Bokeh: all callbacks have finished\");\n  }\n\n  function load_libs(css_urls, js_urls, callback) {\n    if (css_urls == null) css_urls = [];\n    if (js_urls == null) js_urls = [];\n\n    root._bokeh_onload_callbacks.push(callback);\n    if (root._bokeh_is_loading > 0) {\n      console.debug(\"Bokeh: BokehJS is being loaded, scheduling callback at\", now());\n      return null;\n    }\n    if (js_urls == null || js_urls.length === 0) {\n      run_callbacks();\n      return null;\n    }\n    console.debug(\"Bokeh: BokehJS not loaded, scheduling load and callback at\", now());\n    root._bokeh_is_loading = css_urls.length + js_urls.length;\n\n    function on_load() {\n      root._bokeh_is_loading--;\n      if (root._bokeh_is_loading === 0) {\n        console.debug(\"Bokeh: all BokehJS libraries/stylesheets loaded\");\n        run_callbacks()\n      }\n    }\n\n    function on_error(url) {\n      console.error(\"failed to load \" + url);\n    }\n\n    for (let i = 0; i < css_urls.length; i++) {\n      const url = css_urls[i];\n      const element = document.createElement(\"link\");\n      element.onload = on_load;\n      element.onerror = on_error.bind(null, url);\n      element.rel = \"stylesheet\";\n      element.type = \"text/css\";\n      element.href = url;\n      console.debug(\"Bokeh: injecting link tag for BokehJS stylesheet: \", url);\n      document.body.appendChild(element);\n    }\n\n    for (let i = 0; i < js_urls.length; i++) {\n      const url = js_urls[i];\n      const element = document.createElement('script');\n      element.onload = on_load;\n      element.onerror = on_error.bind(null, url);\n      element.async = false;\n      element.src = url;\n      console.debug(\"Bokeh: injecting script tag for BokehJS library: \", url);\n      document.head.appendChild(element);\n    }\n  };\n\n  function inject_raw_css(css) {\n    const element = document.createElement(\"style\");\n    element.appendChild(document.createTextNode(css));\n    document.body.appendChild(element);\n  }\n\n  const js_urls = [\"https://cdn.bokeh.org/bokeh/release/bokeh-2.4.3.min.js\", \"https://cdn.bokeh.org/bokeh/release/bokeh-gl-2.4.3.min.js\", \"https://cdn.bokeh.org/bokeh/release/bokeh-widgets-2.4.3.min.js\", \"https://cdn.bokeh.org/bokeh/release/bokeh-tables-2.4.3.min.js\", \"https://cdn.bokeh.org/bokeh/release/bokeh-mathjax-2.4.3.min.js\"];\n  const css_urls = [];\n\n  const inline_js = [    function(Bokeh) {\n      Bokeh.set_log_level(\"info\");\n    },\nfunction(Bokeh) {\n    }\n  ];\n\n  function run_inline_js() {\n    if (root.Bokeh !== undefined || force === true) {\n          for (let i = 0; i < inline_js.length; i++) {\n      inline_js[i].call(root, root.Bokeh);\n    }\nif (force === true) {\n        display_loaded();\n      }} else if (Date.now() < root._bokeh_timeout) {\n      setTimeout(run_inline_js, 100);\n    } else if (!root._bokeh_failed_load) {\n      console.log(\"Bokeh: BokehJS failed to load within specified timeout.\");\n      root._bokeh_failed_load = true;\n    } else if (force !== true) {\n      const cell = $(document.getElementById(\"1002\")).parents('.cell').data().cell;\n      cell.output_area.append_execute_result(NB_LOAD_WARNING)\n    }\n  }\n\n  if (root._bokeh_is_loading === 0) {\n    console.debug(\"Bokeh: BokehJS loaded, going straight to plotting\");\n    run_inline_js();\n  } else {\n    load_libs(css_urls, js_urls, function() {\n      console.debug(\"Bokeh: BokehJS plotting callback run at\", now());\n      run_inline_js();\n    });\n  }\n}(window));",
      "application/vnd.bokehjs_load.v0+json": ""
     },
     "metadata": {},
     "output_type": "display_data"
    }
   ],
   "source": [
    "import numpy as np \n",
    "import seaborn as sns\n",
    "import matplotlib.pyplot as plt\n",
    "import pandas as pd\n",
    "import matplotlib.ticker \n",
    "# from bokeh.palettes import Bright6\n",
    "from bokeh.plotting import figure, show\n",
    "from bokeh.models import ColumnDataSource, FactorRange\n",
    "from bokeh.io import output_notebook\n",
    "from bokeh.models import Legend\n",
    "from bokeh.embed import file_html\n",
    "from bokeh.resources import CDN\n",
    "# from bokeh.io import save\n",
    "from bokeh.plotting import figure, output_file, save\n",
    "output_notebook()\n",
    "sns.set()"
   ]
  },
  {
   "cell_type": "code",
   "execution_count": 2,
   "metadata": {},
   "outputs": [],
   "source": [
    "data = pd.read_csv('data/Police_Department_Incident_Reports__Historical_2003_to_May_2018.csv')\n",
    "focuscrimes = ['WEAPON LAWS', 'PROSTITUTION', 'DRIVING UNDER THE INFLUENCE', 'ROBBERY', 'BURGLARY', 'ASSAULT', 'DRUNKENNESS', 'DRUG/NARCOTIC', 'TRESPASS', 'LARCENY/THEFT', 'VANDALISM', 'VEHICLE THEFT', 'STOLEN PROPERTY', 'DISORDERLY CONDUCT']\n",
    "data_focus = data[data['Category'].isin(focuscrimes)]"
   ]
  },
  {
   "cell_type": "code",
   "execution_count": 3,
   "metadata": {},
   "outputs": [],
   "source": [
    "pand = data_focus['Time'].str.split(':', expand=True).iloc[:,0]\n",
    "counts = np.array([np.unique(pand[data['Category']==i], return_counts=True)[1] for i in focuscrimes]).astype(np.float64)\n",
    "counts = counts.T/np.sum(counts,axis=1)\n",
    "df = pd.DataFrame(counts, columns = focuscrimes)\n",
    "df0 = pd.DataFrame(np.unique(pand), columns = ['Time'])\n",
    "df = pd.concat([df0, df], axis=1)"
   ]
  },
  {
   "cell_type": "code",
   "execution_count": 4,
   "metadata": {},
   "outputs": [
    {
     "data": {
      "text/html": [
       "<div>\n",
       "<style scoped>\n",
       "    .dataframe tbody tr th:only-of-type {\n",
       "        vertical-align: middle;\n",
       "    }\n",
       "\n",
       "    .dataframe tbody tr th {\n",
       "        vertical-align: top;\n",
       "    }\n",
       "\n",
       "    .dataframe thead th {\n",
       "        text-align: right;\n",
       "    }\n",
       "</style>\n",
       "<table border=\"1\" class=\"dataframe\">\n",
       "  <thead>\n",
       "    <tr style=\"text-align: right;\">\n",
       "      <th></th>\n",
       "      <th>Time</th>\n",
       "      <th>WEAPON LAWS</th>\n",
       "      <th>PROSTITUTION</th>\n",
       "      <th>DRIVING UNDER THE INFLUENCE</th>\n",
       "      <th>ROBBERY</th>\n",
       "      <th>BURGLARY</th>\n",
       "      <th>ASSAULT</th>\n",
       "      <th>DRUNKENNESS</th>\n",
       "      <th>DRUG/NARCOTIC</th>\n",
       "      <th>TRESPASS</th>\n",
       "      <th>LARCENY/THEFT</th>\n",
       "      <th>VANDALISM</th>\n",
       "      <th>VEHICLE THEFT</th>\n",
       "      <th>STOLEN PROPERTY</th>\n",
       "      <th>DISORDERLY CONDUCT</th>\n",
       "    </tr>\n",
       "  </thead>\n",
       "  <tbody>\n",
       "    <tr>\n",
       "      <th>0</th>\n",
       "      <td>00</td>\n",
       "      <td>0.053466</td>\n",
       "      <td>0.081813</td>\n",
       "      <td>0.125796</td>\n",
       "      <td>0.054014</td>\n",
       "      <td>0.038236</td>\n",
       "      <td>0.054166</td>\n",
       "      <td>0.084631</td>\n",
       "      <td>0.031565</td>\n",
       "      <td>0.029645</td>\n",
       "      <td>0.039960</td>\n",
       "      <td>0.056443</td>\n",
       "      <td>0.037630</td>\n",
       "      <td>0.047773</td>\n",
       "      <td>0.052255</td>\n",
       "    </tr>\n",
       "    <tr>\n",
       "      <th>1</th>\n",
       "      <td>01</td>\n",
       "      <td>0.039945</td>\n",
       "      <td>0.063511</td>\n",
       "      <td>0.114827</td>\n",
       "      <td>0.055740</td>\n",
       "      <td>0.024795</td>\n",
       "      <td>0.049287</td>\n",
       "      <td>0.079816</td>\n",
       "      <td>0.019300</td>\n",
       "      <td>0.020631</td>\n",
       "      <td>0.024648</td>\n",
       "      <td>0.039514</td>\n",
       "      <td>0.025715</td>\n",
       "      <td>0.033712</td>\n",
       "      <td>0.038462</td>\n",
       "    </tr>\n",
       "    <tr>\n",
       "      <th>2</th>\n",
       "      <td>02</td>\n",
       "      <td>0.035469</td>\n",
       "      <td>0.047088</td>\n",
       "      <td>0.115357</td>\n",
       "      <td>0.058219</td>\n",
       "      <td>0.026750</td>\n",
       "      <td>0.044222</td>\n",
       "      <td>0.067930</td>\n",
       "      <td>0.015642</td>\n",
       "      <td>0.023497</td>\n",
       "      <td>0.016049</td>\n",
       "      <td>0.037318</td>\n",
       "      <td>0.020352</td>\n",
       "      <td>0.028210</td>\n",
       "      <td>0.034535</td>\n",
       "    </tr>\n",
       "    <tr>\n",
       "      <th>3</th>\n",
       "      <td>03</td>\n",
       "      <td>0.022139</td>\n",
       "      <td>0.032907</td>\n",
       "      <td>0.051132</td>\n",
       "      <td>0.035085</td>\n",
       "      <td>0.027617</td>\n",
       "      <td>0.021713</td>\n",
       "      <td>0.026434</td>\n",
       "      <td>0.010601</td>\n",
       "      <td>0.019225</td>\n",
       "      <td>0.010082</td>\n",
       "      <td>0.025140</td>\n",
       "      <td>0.012652</td>\n",
       "      <td>0.022096</td>\n",
       "      <td>0.021748</td>\n",
       "    </tr>\n",
       "    <tr>\n",
       "      <th>4</th>\n",
       "      <td>04</td>\n",
       "      <td>0.014902</td>\n",
       "      <td>0.028180</td>\n",
       "      <td>0.018931</td>\n",
       "      <td>0.022711</td>\n",
       "      <td>0.024476</td>\n",
       "      <td>0.013673</td>\n",
       "      <td>0.013525</td>\n",
       "      <td>0.007724</td>\n",
       "      <td>0.014327</td>\n",
       "      <td>0.006561</td>\n",
       "      <td>0.016763</td>\n",
       "      <td>0.009768</td>\n",
       "      <td>0.019651</td>\n",
       "      <td>0.016110</td>\n",
       "    </tr>\n",
       "  </tbody>\n",
       "</table>\n",
       "</div>"
      ],
      "text/plain": [
       "  Time  WEAPON LAWS  PROSTITUTION  DRIVING UNDER THE INFLUENCE   ROBBERY  \\\n",
       "0   00     0.053466      0.081813                     0.125796  0.054014   \n",
       "1   01     0.039945      0.063511                     0.114827  0.055740   \n",
       "2   02     0.035469      0.047088                     0.115357  0.058219   \n",
       "3   03     0.022139      0.032907                     0.051132  0.035085   \n",
       "4   04     0.014902      0.028180                     0.018931  0.022711   \n",
       "\n",
       "   BURGLARY   ASSAULT  DRUNKENNESS  DRUG/NARCOTIC  TRESPASS  LARCENY/THEFT  \\\n",
       "0  0.038236  0.054166     0.084631       0.031565  0.029645       0.039960   \n",
       "1  0.024795  0.049287     0.079816       0.019300  0.020631       0.024648   \n",
       "2  0.026750  0.044222     0.067930       0.015642  0.023497       0.016049   \n",
       "3  0.027617  0.021713     0.026434       0.010601  0.019225       0.010082   \n",
       "4  0.024476  0.013673     0.013525       0.007724  0.014327       0.006561   \n",
       "\n",
       "   VANDALISM  VEHICLE THEFT  STOLEN PROPERTY  DISORDERLY CONDUCT  \n",
       "0   0.056443       0.037630         0.047773            0.052255  \n",
       "1   0.039514       0.025715         0.033712            0.038462  \n",
       "2   0.037318       0.020352         0.028210            0.034535  \n",
       "3   0.025140       0.012652         0.022096            0.021748  \n",
       "4   0.016763       0.009768         0.019651            0.016110  "
      ]
     },
     "execution_count": 4,
     "metadata": {},
     "output_type": "execute_result"
    }
   ],
   "source": [
    "# pd.concat([df0, df],axis=1)\n",
    "df.head()"
   ]
  },
  {
   "cell_type": "code",
   "execution_count": 55,
   "metadata": {},
   "outputs": [
    {
     "data": {
      "text/html": [
       "\n",
       "  <div class=\"bk-root\" id=\"0b612bb3-8921-4da8-858b-1bf6c8a4c708\" data-root-id=\"20128\"></div>\n"
      ]
     },
     "metadata": {},
     "output_type": "display_data"
    },
    {
     "data": {
      "application/javascript": "(function(root) {\n  function embed_document(root) {\n  const docs_json = {\"9d580460-e460-4867-9887-25da1e09d526\":{\"defs\":[],\"roots\":{\"references\":[{\"attributes\":{\"below\":[{\"id\":\"20138\"}],\"center\":[{\"id\":\"20140\"},{\"id\":\"20144\"}],\"height\":800,\"left\":[{\"id\":\"20141\"}],\"renderers\":[{\"id\":\"20163\"},{\"id\":\"20169\"},{\"id\":\"20175\"},{\"id\":\"20181\"},{\"id\":\"20187\"},{\"id\":\"20193\"},{\"id\":\"20199\"},{\"id\":\"20205\"},{\"id\":\"20211\"},{\"id\":\"20217\"},{\"id\":\"20223\"},{\"id\":\"20229\"},{\"id\":\"20235\"},{\"id\":\"20241\"}],\"right\":[{\"id\":\"20243\"}],\"title\":{\"id\":\"20129\"},\"toolbar\":{\"id\":\"20152\"},\"width\":1300,\"x_range\":{\"id\":\"20127\"},\"x_scale\":{\"id\":\"20134\"},\"y_range\":{\"id\":\"20132\"},\"y_scale\":{\"id\":\"20136\"}},\"id\":\"20128\",\"subtype\":\"Figure\",\"type\":\"Plot\"},{\"attributes\":{\"source\":{\"id\":\"20126\"}},\"id\":\"20218\",\"type\":\"CDSView\"},{\"attributes\":{\"click_policy\":\"hide\",\"coordinates\":null,\"group\":null,\"items\":[{\"id\":\"20244\"},{\"id\":\"20245\"},{\"id\":\"20246\"},{\"id\":\"20247\"},{\"id\":\"20248\"},{\"id\":\"20249\"},{\"id\":\"20250\"},{\"id\":\"20251\"},{\"id\":\"20252\"},{\"id\":\"20253\"},{\"id\":\"20254\"},{\"id\":\"20255\"},{\"id\":\"20256\"},{\"id\":\"20257\"}],\"location\":[30,-20]},\"id\":\"20243\",\"type\":\"Legend\"},{\"attributes\":{\"fill_color\":{\"value\":\"rgb(168, 202, 187)\"},\"line_color\":{\"value\":\"#1f77b4\"},\"top\":{\"field\":\"PROSTITUTION\"},\"width\":{\"value\":0.8},\"x\":{\"field\":\"Time\"}},\"id\":\"20166\",\"type\":\"VBar\"},{\"attributes\":{\"bottom_units\":\"screen\",\"coordinates\":null,\"fill_alpha\":0.5,\"fill_color\":\"lightgrey\",\"group\":null,\"left_units\":\"screen\",\"level\":\"overlay\",\"line_alpha\":1.0,\"line_color\":\"black\",\"line_dash\":[4,4],\"line_width\":2,\"right_units\":\"screen\",\"syncable\":false,\"top_units\":\"screen\"},\"id\":\"20151\",\"type\":\"BoxAnnotation\"},{\"attributes\":{\"fill_color\":{\"value\":\"rgb(225, 70, 82)\"},\"line_color\":{\"value\":\"#1f77b4\"},\"top\":{\"field\":\"DRIVING UNDER THE INFLUENCE\"},\"width\":{\"value\":0.8},\"x\":{\"field\":\"Time\"}},\"id\":\"20172\",\"type\":\"VBar\"},{\"attributes\":{},\"id\":\"20148\",\"type\":\"SaveTool\"},{\"attributes\":{},\"id\":\"20132\",\"type\":\"DataRange1d\"},{\"attributes\":{},\"id\":\"20145\",\"type\":\"PanTool\"},{\"attributes\":{},\"id\":\"20149\",\"type\":\"ResetTool\"},{\"attributes\":{\"overlay\":{\"id\":\"20151\"}},\"id\":\"20147\",\"type\":\"BoxZoomTool\"},{\"attributes\":{\"fill_alpha\":{\"value\":0.1},\"fill_color\":{\"value\":\"rgb(83, 224, 146)\"},\"hatch_alpha\":{\"value\":0.1},\"line_alpha\":{\"value\":0.1},\"line_color\":{\"value\":\"#1f77b4\"},\"top\":{\"field\":\"WEAPON LAWS\"},\"width\":{\"value\":0.8},\"x\":{\"field\":\"Time\"}},\"id\":\"20161\",\"type\":\"VBar\"},{\"attributes\":{\"fill_alpha\":{\"value\":0.1},\"fill_color\":{\"value\":\"rgb(77, 113, 54)\"},\"hatch_alpha\":{\"value\":0.1},\"line_alpha\":{\"value\":0.1},\"line_color\":{\"value\":\"#1f77b4\"},\"top\":{\"field\":\"TRESPASS\"},\"width\":{\"value\":0.8},\"x\":{\"field\":\"Time\"}},\"id\":\"20209\",\"type\":\"VBar\"},{\"attributes\":{\"fill_color\":{\"value\":\"rgb(248, 202, 167)\"},\"line_color\":{\"value\":\"#1f77b4\"},\"top\":{\"field\":\"DRUG/NARCOTIC\"},\"width\":{\"value\":0.8},\"x\":{\"field\":\"Time\"}},\"id\":\"20202\",\"type\":\"VBar\"},{\"attributes\":{\"fill_alpha\":{\"value\":0.1},\"fill_color\":{\"value\":\"rgb(225, 70, 82)\"},\"hatch_alpha\":{\"value\":0.1},\"line_alpha\":{\"value\":0.1},\"line_color\":{\"value\":\"#1f77b4\"},\"top\":{\"field\":\"DRIVING UNDER THE INFLUENCE\"},\"width\":{\"value\":0.8},\"x\":{\"field\":\"Time\"}},\"id\":\"20173\",\"type\":\"VBar\"},{\"attributes\":{},\"id\":\"20146\",\"type\":\"WheelZoomTool\"},{\"attributes\":{\"coordinates\":null,\"formatter\":{\"id\":\"20613\"},\"group\":null,\"major_label_policy\":{\"id\":\"20614\"},\"ticker\":{\"id\":\"20142\"}},\"id\":\"20141\",\"type\":\"LinearAxis\"},{\"attributes\":{\"coordinates\":null,\"formatter\":{\"id\":\"20616\"},\"group\":null,\"major_label_policy\":{\"id\":\"20617\"},\"ticker\":{\"id\":\"20139\"}},\"id\":\"20138\",\"type\":\"CategoricalAxis\"},{\"attributes\":{\"fill_color\":{\"value\":\"rgb(83, 224, 146)\"},\"line_color\":{\"value\":\"#1f77b4\"},\"top\":{\"field\":\"WEAPON LAWS\"},\"width\":{\"value\":0.8},\"x\":{\"field\":\"Time\"}},\"id\":\"20160\",\"type\":\"VBar\"},{\"attributes\":{},\"id\":\"20613\",\"type\":\"BasicTickFormatter\"},{\"attributes\":{},\"id\":\"20614\",\"type\":\"AllLabels\"},{\"attributes\":{\"fill_alpha\":{\"value\":0.1},\"fill_color\":{\"value\":\"rgb(39, 146, 18)\"},\"hatch_alpha\":{\"value\":0.1},\"line_alpha\":{\"value\":0.1},\"line_color\":{\"value\":\"#1f77b4\"},\"top\":{\"field\":\"DISORDERLY CONDUCT\"},\"width\":{\"value\":0.8},\"x\":{\"field\":\"Time\"}},\"id\":\"20239\",\"type\":\"VBar\"},{\"attributes\":{\"fill_color\":{\"value\":\"rgb(59, 216, 90)\"},\"line_color\":{\"value\":\"#1f77b4\"},\"top\":{\"field\":\"VANDALISM\"},\"width\":{\"value\":0.8},\"x\":{\"field\":\"Time\"}},\"id\":\"20220\",\"type\":\"VBar\"},{\"attributes\":{\"label\":{\"value\":\"ASSAULT\"},\"renderers\":[{\"id\":\"20193\"}]},\"id\":\"20249\",\"type\":\"LegendItem\"},{\"attributes\":{},\"id\":\"20134\",\"type\":\"CategoricalScale\"},{\"attributes\":{\"fill_color\":{\"value\":\"rgb(126, 134, 162)\"},\"line_color\":{\"value\":\"#1f77b4\"},\"top\":{\"field\":\"DRUNKENNESS\"},\"width\":{\"value\":0.8},\"x\":{\"field\":\"Time\"}},\"id\":\"20196\",\"type\":\"VBar\"},{\"attributes\":{\"source\":{\"id\":\"20126\"}},\"id\":\"20242\",\"type\":\"CDSView\"},{\"attributes\":{\"fill_color\":{\"value\":\"rgb(167, 168, 138)\"},\"line_color\":{\"value\":\"#1f77b4\"},\"top\":{\"field\":\"BURGLARY\"},\"width\":{\"value\":0.8},\"x\":{\"field\":\"Time\"}},\"id\":\"20184\",\"type\":\"VBar\"},{\"attributes\":{\"coordinates\":null,\"data_source\":{\"id\":\"20126\"},\"glyph\":{\"id\":\"20196\"},\"group\":null,\"hover_glyph\":null,\"muted\":true,\"muted_glyph\":{\"id\":\"20198\"},\"nonselection_glyph\":{\"id\":\"20197\"},\"view\":{\"id\":\"20200\"}},\"id\":\"20199\",\"type\":\"GlyphRenderer\"},{\"attributes\":{\"coordinates\":null,\"data_source\":{\"id\":\"20126\"},\"glyph\":{\"id\":\"20214\"},\"group\":null,\"hover_glyph\":null,\"muted\":true,\"muted_glyph\":{\"id\":\"20216\"},\"nonselection_glyph\":{\"id\":\"20215\"},\"view\":{\"id\":\"20218\"}},\"id\":\"20217\",\"type\":\"GlyphRenderer\"},{\"attributes\":{\"label\":{\"value\":\"VEHICLE THEFT\"},\"renderers\":[{\"id\":\"20229\"}]},\"id\":\"20255\",\"type\":\"LegendItem\"},{\"attributes\":{},\"id\":\"20616\",\"type\":\"CategoricalTickFormatter\"},{\"attributes\":{\"coordinates\":null,\"data_source\":{\"id\":\"20126\"},\"glyph\":{\"id\":\"20226\"},\"group\":null,\"hover_glyph\":null,\"muted\":true,\"muted_glyph\":{\"id\":\"20228\"},\"nonselection_glyph\":{\"id\":\"20227\"},\"view\":{\"id\":\"20230\"}},\"id\":\"20229\",\"type\":\"GlyphRenderer\"},{\"attributes\":{\"source\":{\"id\":\"20126\"}},\"id\":\"20200\",\"type\":\"CDSView\"},{\"attributes\":{},\"id\":\"20617\",\"type\":\"AllLabels\"},{\"attributes\":{\"label\":{\"value\":\"TRESPASS\"},\"renderers\":[{\"id\":\"20211\"}]},\"id\":\"20252\",\"type\":\"LegendItem\"},{\"attributes\":{\"label\":{\"value\":\"DRUNKENNESS\"},\"renderers\":[{\"id\":\"20199\"}]},\"id\":\"20250\",\"type\":\"LegendItem\"},{\"attributes\":{},\"id\":\"20618\",\"type\":\"UnionRenderers\"},{\"attributes\":{},\"id\":\"20619\",\"type\":\"Selection\"},{\"attributes\":{\"fill_color\":{\"value\":\"rgb(117, 130, 243)\"},\"line_color\":{\"value\":\"#1f77b4\"},\"top\":{\"field\":\"STOLEN PROPERTY\"},\"width\":{\"value\":0.8},\"x\":{\"field\":\"Time\"}},\"id\":\"20234\",\"type\":\"VBar\"},{\"attributes\":{\"fill_color\":{\"value\":\"rgb(152, 90, 220)\"},\"line_color\":{\"value\":\"#1f77b4\"},\"top\":{\"field\":\"VEHICLE THEFT\"},\"width\":{\"value\":0.8},\"x\":{\"field\":\"Time\"}},\"id\":\"20228\",\"type\":\"VBar\"},{\"attributes\":{\"fill_color\":{\"value\":\"rgb(83, 224, 146)\"},\"line_color\":{\"value\":\"#1f77b4\"},\"top\":{\"field\":\"WEAPON LAWS\"},\"width\":{\"value\":0.8},\"x\":{\"field\":\"Time\"}},\"id\":\"20162\",\"type\":\"VBar\"},{\"attributes\":{\"fill_alpha\":{\"value\":0.1},\"fill_color\":{\"value\":\"rgb(152, 90, 220)\"},\"hatch_alpha\":{\"value\":0.1},\"line_alpha\":{\"value\":0.1},\"line_color\":{\"value\":\"#1f77b4\"},\"top\":{\"field\":\"VEHICLE THEFT\"},\"width\":{\"value\":0.8},\"x\":{\"field\":\"Time\"}},\"id\":\"20227\",\"type\":\"VBar\"},{\"attributes\":{\"label\":{\"value\":\"DISORDERLY CONDUCT\"},\"renderers\":[{\"id\":\"20241\"}]},\"id\":\"20257\",\"type\":\"LegendItem\"},{\"attributes\":{\"fill_alpha\":{\"value\":0.1},\"fill_color\":{\"value\":\"rgb(168, 202, 187)\"},\"hatch_alpha\":{\"value\":0.1},\"line_alpha\":{\"value\":0.1},\"line_color\":{\"value\":\"#1f77b4\"},\"top\":{\"field\":\"PROSTITUTION\"},\"width\":{\"value\":0.8},\"x\":{\"field\":\"Time\"}},\"id\":\"20167\",\"type\":\"VBar\"},{\"attributes\":{\"label\":{\"value\":\"BURGLARY\"},\"renderers\":[{\"id\":\"20187\"}]},\"id\":\"20248\",\"type\":\"LegendItem\"},{\"attributes\":{\"fill_color\":{\"value\":\"rgb(39, 146, 18)\"},\"line_color\":{\"value\":\"#1f77b4\"},\"top\":{\"field\":\"DISORDERLY CONDUCT\"},\"width\":{\"value\":0.8},\"x\":{\"field\":\"Time\"}},\"id\":\"20240\",\"type\":\"VBar\"},{\"attributes\":{\"coordinates\":null,\"data_source\":{\"id\":\"20126\"},\"glyph\":{\"id\":\"20232\"},\"group\":null,\"hover_glyph\":null,\"muted\":true,\"muted_glyph\":{\"id\":\"20234\"},\"nonselection_glyph\":{\"id\":\"20233\"},\"view\":{\"id\":\"20236\"}},\"id\":\"20235\",\"type\":\"GlyphRenderer\"},{\"attributes\":{\"coordinates\":null,\"data_source\":{\"id\":\"20126\"},\"glyph\":{\"id\":\"20202\"},\"group\":null,\"hover_glyph\":null,\"muted\":true,\"muted_glyph\":{\"id\":\"20204\"},\"nonselection_glyph\":{\"id\":\"20203\"},\"view\":{\"id\":\"20206\"}},\"id\":\"20205\",\"type\":\"GlyphRenderer\"},{\"attributes\":{\"label\":{\"value\":\"PROSTITUTION\"},\"renderers\":[{\"id\":\"20169\"}]},\"id\":\"20245\",\"type\":\"LegendItem\"},{\"attributes\":{\"coordinates\":null,\"data_source\":{\"id\":\"20126\"},\"glyph\":{\"id\":\"20160\"},\"group\":null,\"hover_glyph\":null,\"muted\":true,\"muted_glyph\":{\"id\":\"20162\"},\"nonselection_glyph\":{\"id\":\"20161\"},\"view\":{\"id\":\"20164\"}},\"id\":\"20163\",\"type\":\"GlyphRenderer\"},{\"attributes\":{\"coordinates\":null,\"group\":null,\"text\":\"Crime Counts\"},\"id\":\"20129\",\"type\":\"Title\"},{\"attributes\":{},\"id\":\"20150\",\"type\":\"HelpTool\"},{\"attributes\":{\"fill_alpha\":{\"value\":0.1},\"fill_color\":{\"value\":\"rgb(248, 202, 167)\"},\"hatch_alpha\":{\"value\":0.1},\"line_alpha\":{\"value\":0.1},\"line_color\":{\"value\":\"#1f77b4\"},\"top\":{\"field\":\"DRUG/NARCOTIC\"},\"width\":{\"value\":0.8},\"x\":{\"field\":\"Time\"}},\"id\":\"20203\",\"type\":\"VBar\"},{\"attributes\":{\"axis\":{\"id\":\"20138\"},\"coordinates\":null,\"group\":null,\"ticker\":null},\"id\":\"20140\",\"type\":\"Grid\"},{\"attributes\":{\"coordinates\":null,\"data_source\":{\"id\":\"20126\"},\"glyph\":{\"id\":\"20220\"},\"group\":null,\"hover_glyph\":null,\"muted\":true,\"muted_glyph\":{\"id\":\"20222\"},\"nonselection_glyph\":{\"id\":\"20221\"},\"view\":{\"id\":\"20224\"}},\"id\":\"20223\",\"type\":\"GlyphRenderer\"},{\"attributes\":{\"data\":{\"ASSAULT\":{\"__ndarray__\":\"klDS+KW7qz98AOJ6JTypP5K/G+NRpKY/syGOnfU7lj+hqVLnsgCMP691xdrxRoY/RSsbYEUWjj9vC+5hsiqWP1EbMHHA/6A/jM+/TWoGoz9UsrxFIB+lPwzpP01NfKY/B3jJvhukqz/k0cMxlGOoPwncVZS116g/cZtmPIatqz+rWrMtQmmrP1boJyTsjqs/529kAIAfqz9OQUa37kaqP6+6luhVhKk/8nYpKJGCqj+ctU03RUqpPxXjGrzGOqg/\",\"dtype\":\"float64\",\"order\":\"little\",\"shape\":[24]},\"BURGLARY\":{\"__ndarray__\":\"qCBtVJ2Toz9UAYWq12OZP4QsLPo6ZJs/PCdBdaNHnD/9DCkPXRCZP335Y/zL5JY/EbIj0o3qlj/HWtSRVLShPxjl68/8aas/ieK1pogHqD8+2/slKEKmP1Ta+oS1DKU/OqQxP5A9rD8Qi5msa5OiP1uSUy3MWKQ/pL7I14XMpz/OtCa15YqqP1yWo50pxLE/rH7BYFfvsT/gVdEHufmqP+ULW7QGnac/wkwVRXPJpj8lLhP7B6ulP7xEJ92DDKQ/\",\"dtype\":\"float64\",\"order\":\"little\",\"shape\":[24]},\"DISORDERLY CONDUCT\":{\"__ndarray__\":\"2kDJIDbBqj8UO7ETO7GjPwaxCdaMrqE/Hr4E5hNFlj/eeRZCBX+QP8pIylIvd6Q/jJBirKj0uT8M3eAZZ4i3P6om0wAolLE/8ubACzp/qj9iokPQdKGmPxE0XahlQqQ/ETRdqGVCpD+hEde+p0ejPxxQrVW7/aE/23LC1i8QoT+rYjHbhoyfPz5H/1yeAJ4/xdMeVwHBoD/t2Bg1j6GbPw6UDGITrJk/tn6BiNxHnT/NTx6+BOajP1IRSCfxL6U/\",\"dtype\":\"float64\",\"order\":\"little\",\"shape\":[24]},\"DRIVING UNDER THE INFLUENCE\":{\"__ndarray__\":\"S3r50xYawD/Zkd/WRmW9Pz2KgfEPiL0/70XmtQQuqj9nwkOCvWKTP+wVm4g2d4Y/l3MaFk5diT9MRkxfygeBP5ZanG0Hq4A/F2fbwSoEhT9BuBv7HpFzP2wJXDQTHoI/F2fbwSoEhT/BxFpPQuqHP0LRmaNlQ4w/sdaTkPoFkz+SLAJk+KGaP6lfMLHWk6A/7ixoDb57oT+nSGMsT4+lPzpaNsRB0ak/sD7ueZMqsT9X7fprvDC3P6yo+Ybr/Lw/\",\"dtype\":\"float64\",\"order\":\"little\",\"shape\":[24]},\"DRUG/NARCOTIC\":{\"__ndarray__\":\"yhgb/UMpoD8yJz07gMOTP23Smt2NBJA/rdoh3+K1hT+RZETnwqJ/P1I4q8Z5enA/tHQFBW0Vhz9PpirPpkyaP4HerIO+VqE/ChsfpMVGpD99hBBmqsimP0EdnVICT6k/18W6mNydqj8C55rUUxKxP4ygy0dxOLM/daVSx8jSsT9otmX0C6qyP4/qe61MHrM/vSkuKocAsT+i8qdQ6++sPzszyehrAKY/Ayx1TauopD/AkW1Ug8moP52bAUx3E6U/\",\"dtype\":\"float64\",\"order\":\"little\",\"shape\":[24]},\"DRUNKENNESS\":{\"__ndarray__\":\"dFbpCmOqtT/URA4fy260P3lwmsjhY7E/f7mTUKARmz/hNJHDx7KLP4J1tHmf4nI/WwO8ICn/gD98LLvx4DSRP0jKP/RtDZA/IPq2BnhBkj/qOat0hTGVP0n5h76tAZ4/uWQI1tHmnT8o0Ijt9cudPzRie/1yJ6E/yj/0bQ3woj+ouGQI1tGmPz1nla4wpqo/SfmHvq0Brj+FAo3YXr+sP3CayOFj2a0/afM+xSVDsD91hTHVop6zP1RcMgTraLM/\",\"dtype\":\"float64\",\"order\":\"little\",\"shape\":[24]},\"LARCENY/THEFT\":{\"__ndarray__\":\"iBLodKt1pD+lziBWQT2ZP8ZN0T0jb5A/X5Bw3+6lhD8WhhdpuN96P2wn7yrSAns/GLtTJTU8hT/N+kzwf7GQP6YCd0PTUJw/UxK2qF/MoD9seKShAfakP8UXrp8xDKc/LJEvDOCFrT88a6Zn1CuqP0dubAIlDKs/JskhgUWzrD99mqqk3wquPxsKO9h6IrE/oYaSweGLtD+aGylQq0mzP+upr0xs1bA/+anBVOhfrD8WE23knKSrP5Qd+CYfFKk/\",\"dtype\":\"float64\",\"order\":\"little\",\"shape\":[24]},\"PROSTITUTION\":{\"__ndarray__\":\"LTgPH7bxtD8+3n/WRkKwP0sU1PLsG6g/f0jj7jLZoD93XnswP9ucPy5U1sVwz6E/Sh0gArsCoD+rfw+VmKGQP75nPSK9vYI/pen8ytQ8gz/Z+PgQkjWHPzPF1dmrb4o/RGL6gW7ZnT8cfyPQOKqUP3U4hQFm7ZI/FLGCuP+JjT9rRO66U9+RPyaPgb0FlqI/Ax2qHwsHsj95JG3RkQW1P9hz4cyCrbA/qmNI7t3Dsz8v2e0JgFe4P4rBkXlUb7g/\",\"dtype\":\"float64\",\"order\":\"little\",\"shape\":[24]},\"ROBBERY\":{\"__ndarray__\":\"4mFiFMWnqz8sz8bX+YmsP4cPCK/Yzq0/hGH81bj2oT9PC15djUGXP05DsFb8GJQ/4Md2GPl+kz9NNNhwfVWRP05kocqIcJM/TwteXY1Blz8HJMW40NiaPywggaWR/J0/Kbmfq1+/oT+pLe9obv+iP/Mt8OFTA6Q/qhvW2mBrpj89QhE4jbaoP2LjgmgMkKg/UK3S+Lwmqj9i0Wna/vurP1E45g4KjK8/YJpROtjZsT+OyEZkI7KxP9YF4s1MebA/\",\"dtype\":\"float64\",\"order\":\"little\",\"shape\":[24]},\"STOLEN PROPERTY\":{\"__ndarray__\":\"wzeVY7F1qD/Ch3T6q0KhP0FZxK364pw/S3LUJVqglj+Dr6ciTR+UP8Tntcy2qI8/uux6H0CekT+YAn4WnfOYP5y/H4IKGaA/p4hQY28JoT/8s/MuHgGjP+o+darMq6Y/DomzhXq8rT9FxoaCbTurP/OJj+49g60/uB6F61G4rj/aWGGL7y+wPxjyopTURrA/JRsVSESdrz/ZyfYle1aqP+bRstVZU6g/dqfrcm4ipj/qPnWqzKumPwqrWxZ8PaU/\",\"dtype\":\"float64\",\"order\":\"little\",\"shape\":[24]},\"TRESPASS\":{\"__ndarray__\":\"h8M21yxbnj8R0Cj+aCCVP4XQAwWUD5g/+B4Dp6evkz+JBI5ErleNP87jdArYYZw/u6cwYLI1rz8AsELss/OwP+MS7IaW2a8/aXadhVtNrD8GSh1uYDWrP0spBDSKP6o/tPH3RZX0qz+WpF70w+apPyKkg+2Y96Y/6PyDHI8nqT9BMnSs6wGoP6w7vyt4s6g/vTasaBzjpj9bS4O+osekP0k20WHx86M/NiEfBUAgoz+M+/IHDlqgP2KZ0h3Ks5w/\",\"dtype\":\"float64\",\"order\":\"little\",\"shape\":[24]},\"Time\":[\"00\",\"01\",\"02\",\"03\",\"04\",\"05\",\"06\",\"07\",\"08\",\"09\",\"10\",\"11\",\"12\",\"13\",\"14\",\"15\",\"16\",\"17\",\"18\",\"19\",\"20\",\"21\",\"22\",\"23\"],\"VANDALISM\":{\"__ndarray__\":\"4xoImBDmrD98WJJ2NzukPyxkbL5KG6M/x4LWr0a+mT8Co1t0RyqRP7xkymSnoow/nHB/KlKKkD+ENGeUE1OWP8GeEgyhNKA/OeAvVz9wnj/WuCYk5H2fP1SwlFOXkp0/bqyKT35dpD8L15ZVeVKfP78cuUSGxKE/5hebnuH4pD/3Dcl4J0ynP72u8Bc0GK8/E7jLHVSPsj82H2ERltiwP3aggbS8ubA/246I1SQNsT8wLx07jVyxP35xpZ2ag68/\",\"dtype\":\"float64\",\"order\":\"little\",\"shape\":[24]},\"VEHICLE THEFT\":{\"__ndarray__\":\"f6o7AUhEoz/PHiJqIVWaPzsVm7cr15Q/JifutyPpiT/nmxb5QwGEP+SH3URrBYQ/HPD6r+ewjT+MCbswdWqZP1bwjjxrOaI/pYva9MXWoT+FyMoffcCgP9fVaEENBp4/JyI2o9Utpj+nuB4xBYCfPyN/KIDCeKI/fKDlluvDpT8v2Xx6wd6pP7vtW4xiHLE/sLZohCbktD9MtOMf4UWyP5FTZ7N5LrM/qskh/+5vsj/YISTSkHSzP9VIFgEy/LA/\",\"dtype\":\"float64\",\"order\":\"little\",\"shape\":[24]},\"WEAPON LAWS\":{\"__ndarray__\":\"suyDeuVfqz+rxGompHOkP1J4dLkMKaI/iayP/4Krlj9Mza9O5oSOP+nEk+Ps14E/BVtn6Et5iD8N/rcWut2UP1vqk2Je0Jo/OAPqwFnFoD/tgV3WccuhPx+vqNRSn6Q/7C/jRKnQqD8JGDHb0GyoP3LLEbHwvag/p7UmolaFqz/1yr82X/WtP57Izx7YZa0/iqQbw8prrz/gXAWGQUCuP6ty8JTbeKs/g1NFJiUCrD8w5WG4vuiuP94S/zAxhaw/\",\"dtype\":\"float64\",\"order\":\"little\",\"shape\":[24]},\"index\":[0,1,2,3,4,5,6,7,8,9,10,11,12,13,14,15,16,17,18,19,20,21,22,23]},\"selected\":{\"id\":\"20619\"},\"selection_policy\":{\"id\":\"20618\"}},\"id\":\"20126\",\"type\":\"ColumnDataSource\"},{\"attributes\":{\"source\":{\"id\":\"20126\"}},\"id\":\"20164\",\"type\":\"CDSView\"},{\"attributes\":{\"tools\":[{\"id\":\"20145\"},{\"id\":\"20146\"},{\"id\":\"20147\"},{\"id\":\"20148\"},{\"id\":\"20149\"},{\"id\":\"20150\"}]},\"id\":\"20152\",\"type\":\"Toolbar\"},{\"attributes\":{\"source\":{\"id\":\"20126\"}},\"id\":\"20212\",\"type\":\"CDSView\"},{\"attributes\":{\"fill_color\":{\"value\":\"rgb(199, 234, 96)\"},\"line_color\":{\"value\":\"#1f77b4\"},\"top\":{\"field\":\"ASSAULT\"},\"width\":{\"value\":0.8},\"x\":{\"field\":\"Time\"}},\"id\":\"20190\",\"type\":\"VBar\"},{\"attributes\":{\"fill_alpha\":{\"value\":0.1},\"fill_color\":{\"value\":\"rgb(83, 43, 227)\"},\"hatch_alpha\":{\"value\":0.1},\"line_alpha\":{\"value\":0.1},\"line_color\":{\"value\":\"#1f77b4\"},\"top\":{\"field\":\"LARCENY/THEFT\"},\"width\":{\"value\":0.8},\"x\":{\"field\":\"Time\"}},\"id\":\"20215\",\"type\":\"VBar\"},{\"attributes\":{\"fill_color\":{\"value\":\"rgb(77, 113, 54)\"},\"line_color\":{\"value\":\"#1f77b4\"},\"top\":{\"field\":\"TRESPASS\"},\"width\":{\"value\":0.8},\"x\":{\"field\":\"Time\"}},\"id\":\"20208\",\"type\":\"VBar\"},{\"attributes\":{\"fill_color\":{\"value\":\"rgb(248, 202, 167)\"},\"line_color\":{\"value\":\"#1f77b4\"},\"top\":{\"field\":\"DRUG/NARCOTIC\"},\"width\":{\"value\":0.8},\"x\":{\"field\":\"Time\"}},\"id\":\"20204\",\"type\":\"VBar\"},{\"attributes\":{\"coordinates\":null,\"data_source\":{\"id\":\"20126\"},\"glyph\":{\"id\":\"20178\"},\"group\":null,\"hover_glyph\":null,\"muted\":true,\"muted_glyph\":{\"id\":\"20180\"},\"nonselection_glyph\":{\"id\":\"20179\"},\"view\":{\"id\":\"20182\"}},\"id\":\"20181\",\"type\":\"GlyphRenderer\"},{\"attributes\":{\"source\":{\"id\":\"20126\"}},\"id\":\"20170\",\"type\":\"CDSView\"},{\"attributes\":{\"factors\":[\"00\",\"01\",\"02\",\"03\",\"04\",\"05\",\"06\",\"07\",\"08\",\"09\",\"10\",\"11\",\"12\",\"13\",\"14\",\"15\",\"16\",\"17\",\"18\",\"19\",\"20\",\"21\",\"22\",\"23\"]},\"id\":\"20127\",\"type\":\"FactorRange\"},{\"attributes\":{\"coordinates\":null,\"data_source\":{\"id\":\"20126\"},\"glyph\":{\"id\":\"20184\"},\"group\":null,\"hover_glyph\":null,\"muted\":true,\"muted_glyph\":{\"id\":\"20186\"},\"nonselection_glyph\":{\"id\":\"20185\"},\"view\":{\"id\":\"20188\"}},\"id\":\"20187\",\"type\":\"GlyphRenderer\"},{\"attributes\":{\"coordinates\":null,\"data_source\":{\"id\":\"20126\"},\"glyph\":{\"id\":\"20166\"},\"group\":null,\"hover_glyph\":null,\"muted\":true,\"muted_glyph\":{\"id\":\"20168\"},\"nonselection_glyph\":{\"id\":\"20167\"},\"view\":{\"id\":\"20170\"}},\"id\":\"20169\",\"type\":\"GlyphRenderer\"},{\"attributes\":{\"source\":{\"id\":\"20126\"}},\"id\":\"20176\",\"type\":\"CDSView\"},{\"attributes\":{\"source\":{\"id\":\"20126\"}},\"id\":\"20230\",\"type\":\"CDSView\"},{\"attributes\":{\"fill_color\":{\"value\":\"rgb(203, 175, 223)\"},\"line_color\":{\"value\":\"#1f77b4\"},\"top\":{\"field\":\"ROBBERY\"},\"width\":{\"value\":0.8},\"x\":{\"field\":\"Time\"}},\"id\":\"20178\",\"type\":\"VBar\"},{\"attributes\":{\"source\":{\"id\":\"20126\"}},\"id\":\"20188\",\"type\":\"CDSView\"},{\"attributes\":{\"fill_color\":{\"value\":\"rgb(168, 202, 187)\"},\"line_color\":{\"value\":\"#1f77b4\"},\"top\":{\"field\":\"PROSTITUTION\"},\"width\":{\"value\":0.8},\"x\":{\"field\":\"Time\"}},\"id\":\"20168\",\"type\":\"VBar\"},{\"attributes\":{\"fill_alpha\":{\"value\":0.1},\"fill_color\":{\"value\":\"rgb(167, 168, 138)\"},\"hatch_alpha\":{\"value\":0.1},\"line_alpha\":{\"value\":0.1},\"line_color\":{\"value\":\"#1f77b4\"},\"top\":{\"field\":\"BURGLARY\"},\"width\":{\"value\":0.8},\"x\":{\"field\":\"Time\"}},\"id\":\"20185\",\"type\":\"VBar\"},{\"attributes\":{\"fill_color\":{\"value\":\"rgb(225, 70, 82)\"},\"line_color\":{\"value\":\"#1f77b4\"},\"top\":{\"field\":\"DRIVING UNDER THE INFLUENCE\"},\"width\":{\"value\":0.8},\"x\":{\"field\":\"Time\"}},\"id\":\"20174\",\"type\":\"VBar\"},{\"attributes\":{\"source\":{\"id\":\"20126\"}},\"id\":\"20182\",\"type\":\"CDSView\"},{\"attributes\":{\"fill_alpha\":{\"value\":0.1},\"fill_color\":{\"value\":\"rgb(203, 175, 223)\"},\"hatch_alpha\":{\"value\":0.1},\"line_alpha\":{\"value\":0.1},\"line_color\":{\"value\":\"#1f77b4\"},\"top\":{\"field\":\"ROBBERY\"},\"width\":{\"value\":0.8},\"x\":{\"field\":\"Time\"}},\"id\":\"20179\",\"type\":\"VBar\"},{\"attributes\":{\"fill_alpha\":{\"value\":0.1},\"fill_color\":{\"value\":\"rgb(199, 234, 96)\"},\"hatch_alpha\":{\"value\":0.1},\"line_alpha\":{\"value\":0.1},\"line_color\":{\"value\":\"#1f77b4\"},\"top\":{\"field\":\"ASSAULT\"},\"width\":{\"value\":0.8},\"x\":{\"field\":\"Time\"}},\"id\":\"20191\",\"type\":\"VBar\"},{\"attributes\":{\"fill_alpha\":{\"value\":0.1},\"fill_color\":{\"value\":\"rgb(117, 130, 243)\"},\"hatch_alpha\":{\"value\":0.1},\"line_alpha\":{\"value\":0.1},\"line_color\":{\"value\":\"#1f77b4\"},\"top\":{\"field\":\"STOLEN PROPERTY\"},\"width\":{\"value\":0.8},\"x\":{\"field\":\"Time\"}},\"id\":\"20233\",\"type\":\"VBar\"},{\"attributes\":{\"coordinates\":null,\"data_source\":{\"id\":\"20126\"},\"glyph\":{\"id\":\"20172\"},\"group\":null,\"hover_glyph\":null,\"muted\":true,\"muted_glyph\":{\"id\":\"20174\"},\"nonselection_glyph\":{\"id\":\"20173\"},\"view\":{\"id\":\"20176\"}},\"id\":\"20175\",\"type\":\"GlyphRenderer\"},{\"attributes\":{\"coordinates\":null,\"data_source\":{\"id\":\"20126\"},\"glyph\":{\"id\":\"20238\"},\"group\":null,\"hover_glyph\":null,\"muted\":true,\"muted_glyph\":{\"id\":\"20240\"},\"nonselection_glyph\":{\"id\":\"20239\"},\"view\":{\"id\":\"20242\"}},\"id\":\"20241\",\"type\":\"GlyphRenderer\"},{\"attributes\":{\"fill_color\":{\"value\":\"rgb(203, 175, 223)\"},\"line_color\":{\"value\":\"#1f77b4\"},\"top\":{\"field\":\"ROBBERY\"},\"width\":{\"value\":0.8},\"x\":{\"field\":\"Time\"}},\"id\":\"20180\",\"type\":\"VBar\"},{\"attributes\":{\"fill_color\":{\"value\":\"rgb(39, 146, 18)\"},\"line_color\":{\"value\":\"#1f77b4\"},\"top\":{\"field\":\"DISORDERLY CONDUCT\"},\"width\":{\"value\":0.8},\"x\":{\"field\":\"Time\"}},\"id\":\"20238\",\"type\":\"VBar\"},{\"attributes\":{\"fill_alpha\":{\"value\":0.1},\"fill_color\":{\"value\":\"rgb(59, 216, 90)\"},\"hatch_alpha\":{\"value\":0.1},\"line_alpha\":{\"value\":0.1},\"line_color\":{\"value\":\"#1f77b4\"},\"top\":{\"field\":\"VANDALISM\"},\"width\":{\"value\":0.8},\"x\":{\"field\":\"Time\"}},\"id\":\"20221\",\"type\":\"VBar\"},{\"attributes\":{\"fill_color\":{\"value\":\"rgb(199, 234, 96)\"},\"line_color\":{\"value\":\"#1f77b4\"},\"top\":{\"field\":\"ASSAULT\"},\"width\":{\"value\":0.8},\"x\":{\"field\":\"Time\"}},\"id\":\"20192\",\"type\":\"VBar\"},{\"attributes\":{\"source\":{\"id\":\"20126\"}},\"id\":\"20236\",\"type\":\"CDSView\"},{\"attributes\":{\"label\":{\"value\":\"VANDALISM\"},\"renderers\":[{\"id\":\"20223\"}]},\"id\":\"20254\",\"type\":\"LegendItem\"},{\"attributes\":{\"source\":{\"id\":\"20126\"}},\"id\":\"20224\",\"type\":\"CDSView\"},{\"attributes\":{\"fill_alpha\":{\"value\":0.1},\"fill_color\":{\"value\":\"rgb(126, 134, 162)\"},\"hatch_alpha\":{\"value\":0.1},\"line_alpha\":{\"value\":0.1},\"line_color\":{\"value\":\"#1f77b4\"},\"top\":{\"field\":\"DRUNKENNESS\"},\"width\":{\"value\":0.8},\"x\":{\"field\":\"Time\"}},\"id\":\"20197\",\"type\":\"VBar\"},{\"attributes\":{\"label\":{\"value\":\"LARCENY/THEFT\"},\"renderers\":[{\"id\":\"20217\"}]},\"id\":\"20253\",\"type\":\"LegendItem\"},{\"attributes\":{\"label\":{\"value\":\"ROBBERY\"},\"renderers\":[{\"id\":\"20181\"}]},\"id\":\"20247\",\"type\":\"LegendItem\"},{\"attributes\":{},\"id\":\"20136\",\"type\":\"LinearScale\"},{\"attributes\":{\"label\":{\"value\":\"WEAPON LAWS\"},\"renderers\":[{\"id\":\"20163\"}]},\"id\":\"20244\",\"type\":\"LegendItem\"},{\"attributes\":{},\"id\":\"20142\",\"type\":\"BasicTicker\"},{\"attributes\":{\"label\":{\"value\":\"DRIVING UNDER THE INFLUENCE\"},\"renderers\":[{\"id\":\"20175\"}]},\"id\":\"20246\",\"type\":\"LegendItem\"},{\"attributes\":{\"coordinates\":null,\"data_source\":{\"id\":\"20126\"},\"glyph\":{\"id\":\"20208\"},\"group\":null,\"hover_glyph\":null,\"muted\":true,\"muted_glyph\":{\"id\":\"20210\"},\"nonselection_glyph\":{\"id\":\"20209\"},\"view\":{\"id\":\"20212\"}},\"id\":\"20211\",\"type\":\"GlyphRenderer\"},{\"attributes\":{\"label\":{\"value\":\"STOLEN PROPERTY\"},\"renderers\":[{\"id\":\"20235\"}]},\"id\":\"20256\",\"type\":\"LegendItem\"},{\"attributes\":{\"label\":{\"value\":\"DRUG/NARCOTIC\"},\"renderers\":[{\"id\":\"20205\"}]},\"id\":\"20251\",\"type\":\"LegendItem\"},{\"attributes\":{},\"id\":\"20139\",\"type\":\"CategoricalTicker\"},{\"attributes\":{\"fill_color\":{\"value\":\"rgb(167, 168, 138)\"},\"line_color\":{\"value\":\"#1f77b4\"},\"top\":{\"field\":\"BURGLARY\"},\"width\":{\"value\":0.8},\"x\":{\"field\":\"Time\"}},\"id\":\"20186\",\"type\":\"VBar\"},{\"attributes\":{\"axis\":{\"id\":\"20141\"},\"coordinates\":null,\"dimension\":1,\"group\":null,\"ticker\":null},\"id\":\"20144\",\"type\":\"Grid\"},{\"attributes\":{\"coordinates\":null,\"data_source\":{\"id\":\"20126\"},\"glyph\":{\"id\":\"20190\"},\"group\":null,\"hover_glyph\":null,\"muted\":true,\"muted_glyph\":{\"id\":\"20192\"},\"nonselection_glyph\":{\"id\":\"20191\"},\"view\":{\"id\":\"20194\"}},\"id\":\"20193\",\"type\":\"GlyphRenderer\"},{\"attributes\":{\"fill_color\":{\"value\":\"rgb(152, 90, 220)\"},\"line_color\":{\"value\":\"#1f77b4\"},\"top\":{\"field\":\"VEHICLE THEFT\"},\"width\":{\"value\":0.8},\"x\":{\"field\":\"Time\"}},\"id\":\"20226\",\"type\":\"VBar\"},{\"attributes\":{\"fill_color\":{\"value\":\"rgb(59, 216, 90)\"},\"line_color\":{\"value\":\"#1f77b4\"},\"top\":{\"field\":\"VANDALISM\"},\"width\":{\"value\":0.8},\"x\":{\"field\":\"Time\"}},\"id\":\"20222\",\"type\":\"VBar\"},{\"attributes\":{\"fill_color\":{\"value\":\"rgb(77, 113, 54)\"},\"line_color\":{\"value\":\"#1f77b4\"},\"top\":{\"field\":\"TRESPASS\"},\"width\":{\"value\":0.8},\"x\":{\"field\":\"Time\"}},\"id\":\"20210\",\"type\":\"VBar\"},{\"attributes\":{\"fill_color\":{\"value\":\"rgb(126, 134, 162)\"},\"line_color\":{\"value\":\"#1f77b4\"},\"top\":{\"field\":\"DRUNKENNESS\"},\"width\":{\"value\":0.8},\"x\":{\"field\":\"Time\"}},\"id\":\"20198\",\"type\":\"VBar\"},{\"attributes\":{\"source\":{\"id\":\"20126\"}},\"id\":\"20194\",\"type\":\"CDSView\"},{\"attributes\":{\"fill_color\":{\"value\":\"rgb(117, 130, 243)\"},\"line_color\":{\"value\":\"#1f77b4\"},\"top\":{\"field\":\"STOLEN PROPERTY\"},\"width\":{\"value\":0.8},\"x\":{\"field\":\"Time\"}},\"id\":\"20232\",\"type\":\"VBar\"},{\"attributes\":{\"fill_color\":{\"value\":\"rgb(83, 43, 227)\"},\"line_color\":{\"value\":\"#1f77b4\"},\"top\":{\"field\":\"LARCENY/THEFT\"},\"width\":{\"value\":0.8},\"x\":{\"field\":\"Time\"}},\"id\":\"20214\",\"type\":\"VBar\"},{\"attributes\":{\"source\":{\"id\":\"20126\"}},\"id\":\"20206\",\"type\":\"CDSView\"},{\"attributes\":{\"fill_color\":{\"value\":\"rgb(83, 43, 227)\"},\"line_color\":{\"value\":\"#1f77b4\"},\"top\":{\"field\":\"LARCENY/THEFT\"},\"width\":{\"value\":0.8},\"x\":{\"field\":\"Time\"}},\"id\":\"20216\",\"type\":\"VBar\"}],\"root_ids\":[\"20128\"]},\"title\":\"Bokeh Application\",\"version\":\"2.4.3\"}};\n  const render_items = [{\"docid\":\"9d580460-e460-4867-9887-25da1e09d526\",\"root_ids\":[\"20128\"],\"roots\":{\"20128\":\"0b612bb3-8921-4da8-858b-1bf6c8a4c708\"}}];\n  root.Bokeh.embed.embed_items_notebook(docs_json, render_items);\n  }\n  if (root.Bokeh !== undefined) {\n    embed_document(root);\n  } else {\n    let attempts = 0;\n    const timer = setInterval(function(root) {\n      if (root.Bokeh !== undefined) {\n        clearInterval(timer);\n        embed_document(root);\n      } else {\n        attempts++;\n        if (attempts > 100) {\n          clearInterval(timer);\n          console.log(\"Bokeh: ERROR: Unable to run BokehJS code because BokehJS library is missing\");\n        }\n      }\n    }, 10, root)\n  }\n})(window);",
      "application/vnd.bokehjs_exec.v0+json": ""
     },
     "metadata": {
      "application/vnd.bokehjs_exec.v0+json": {
       "id": "20128"
      }
     },
     "output_type": "display_data"
    }
   ],
   "source": [
    "output_file(filename=\"custom_filename.html\", title=\"Static HTML file\")\n",
    "\n",
    "source = ColumnDataSource(df)\n",
    "p = figure(x_range=FactorRange(factors=np.unique(pand)), height=800, width = 1300, title=\"Crime Counts\")#,\n",
    "            # toolbar_location=None, tools=\"\")\n",
    "bar ={}\n",
    "for indx,i in enumerate(focuscrimes):\n",
    "    bar[i] = p.vbar(x='Time',  top=i, source=source, width=0.8, bottom = 0, muted=True, muted_alpha=True,\n",
    "                    fill_color= (np.random.randint(255),np.random.randint(255),np.random.randint(255)))\n",
    "\n",
    "items = [(i, [bar[i]]) for i in focuscrimes] ### figure where to add it\n",
    "legend = Legend(items=items, location=(30,-20)) ## figure where to add it\n",
    "p.add_layout(legend, 'right') \n",
    "p.legend.click_policy=\"hide\" ### assigns the click policy (you can try to use ''hide'\n",
    "\n",
    "\n",
    "show(p) "
   ]
  },
  {
   "cell_type": "code",
   "execution_count": 54,
   "metadata": {},
   "outputs": [],
   "source": [
    "from bokeh.embed import file_html\n",
    "from bokeh.resources import CDN\n",
    "# from bokeh.io import save\n",
    "from bokeh.plotting import figure, output_file, save\n",
    "output_file(filename=\"custom_filename.html\", title=\"Static HTML file\")\n",
    "# html = file_html(p, CDN, \"my plot\")\n",
    "# save(p)"
   ]
  },
  {
   "cell_type": "code",
   "execution_count": null,
   "metadata": {},
   "outputs": [],
   "source": [
    "# Week days\n",
    "da = data_focus['DayOfWeek']\n",
    "week_lab = ['Monday','Tuesday','Wednesday','Thursday' ,'Friday','Saturday','Sunday']\n",
    "data_new = data_focus.copy()\n",
    "data_new['DayOfWeek'] = pd.Categorical(da, week_lab)\n",
    "histvis(data_new, week_lab, focuscrimes, 'Day of week', 'DayOfWeek')"
   ]
  }
 ],
 "metadata": {
  "kernelspec": {
   "display_name": "socialdata",
   "language": "python",
   "name": "python3"
  },
  "language_info": {
   "codemirror_mode": {
    "name": "ipython",
    "version": 3
   },
   "file_extension": ".py",
   "mimetype": "text/x-python",
   "name": "python",
   "nbconvert_exporter": "python",
   "pygments_lexer": "ipython3",
   "version": "3.10.9"
  },
  "orig_nbformat": 4
 },
 "nbformat": 4,
 "nbformat_minor": 2
}
